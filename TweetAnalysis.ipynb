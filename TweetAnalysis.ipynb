{
 "cells": [
  {
   "cell_type": "code",
   "execution_count": 10,
   "metadata": {
    "collapsed": true
   },
   "outputs": [],
   "source": [
    "import pandas as pd\n",
    "import re\n",
    "import urllib\n",
    "from sklearn.feature_extraction.text import TfidfVectorizer\n",
    "import numpy as np"
   ]
  },
  {
   "cell_type": "code",
   "execution_count": 11,
   "metadata": {
    "collapsed": true
   },
   "outputs": [],
   "source": [
    "data = pd.read_csv('TestData.csv')"
   ]
  },
  {
   "cell_type": "code",
   "execution_count": 12,
   "metadata": {
    "collapsed": true
   },
   "outputs": [],
   "source": [
    "data.dropna(subset=['text'], inplace=True)\n",
    "#data.dropna(subset=['emotion'], inplace=True)\n",
    "data=data[data.index%2==0]"
   ]
  },
  {
   "cell_type": "code",
   "execution_count": 13,
   "metadata": {
    "collapsed": true
   },
   "outputs": [],
   "source": [
    "data[\"text\"]=data.text.str.replace(r'^b','') \n",
    "data[\"text\"]=data.text.str.replace(r'https?:\\/\\/.*\\/[a-zA-Z0-9]*', '') \n",
    "data[\"text\"]=data.text.str.replace(r'@[a-zA-Z0-9]{1,10}', '') \n",
    "data[\"text\"]=data.text.str.replace(r'\\$[a-zA-Z0-9]*', '')\n",
    "data[\"text\"]=data.text.str.replace(r'[0-9]*','')\n",
    "data[\"text\"]=data.text.str.replace(r'\\\\[a-z A-Z]{1,2}','')\n",
    "data[\"text\"]=data.text.str.replace(r'\\:','')\n",
    "data[\"text\"]=data.text.str.replace(r'\\\\n','')\n",
    "data[\"text\"]=data.text.str.replace(r'\\#','')\n",
    "data[\"text\"]=data.text.str.replace(r'\\/','')\n",
    "data[\"text\"]=data.text.str.replace(r'\\'','')\n",
    "data[\"text\"]=data.text.str.replace(r'\\\"','')\n",
    "data[\"text\"]=data.text.str.replace(r'\\-','')\n",
    "data[\"text\"]=data.text.str.replace(r'\\?','')\n",
    "data[\"text\"]=data.text.str.replace(r'\\_','')\n",
    "data[\"text\"]=data.text.str.replace(r'%','')\n",
    "data[\"text\"]=data.text.str.replace(r'\\,','')\n",
    "data[\"text\"]=data.text.str.replace(r'.','')\n",
    "data[\"text\"]=data.text.str.replace(r'\\&amp','')\n",
    "data[\"text\"]=data.text.str.replace(r';','')\n",
    "data[\"text\"]=data.text.str.replace(r'!','')\n",
    "data[\"text\"]=data.text.str.replace(r'\\\\s','')\n",
    "data[\"text\"]=data.text.str.replace(r'\\)','')\n",
    "data[\"text\"]=data.text.str.replace(r'\\(','')\n",
    "data[\"text\"]=data.text.str.replace(r'\\+','')\n",
    "data[\"text\"]=data.text.str.replace(r'\\=','')"
   ]
  },
  {
   "cell_type": "code",
   "execution_count": 14,
   "metadata": {
    "collapsed": true
   },
   "outputs": [],
   "source": [
    "vectorizer = TfidfVectorizer(min_df=2,max_df=0.9,lowercase=\"True\",stop_words=\"english\")"
   ]
  },
  {
   "cell_type": "code",
   "execution_count": 15,
   "metadata": {
    "collapsed": true
   },
   "outputs": [],
   "source": [
    "X = vectorizer.fit_transform(data.text.values.astype('U'))\n",
    "y=data.emotion\n",
    "data['X']=list(X)\n",
    "data['y']=data.emotion"
   ]
  },
  {
   "cell_type": "code",
   "execution_count": 16,
   "metadata": {},
   "outputs": [
    {
     "data": {
      "text/plain": [
       "MultinomialNB(alpha=1.0, class_prior=None, fit_prior=True)"
      ]
     },
     "execution_count": 16,
     "metadata": {},
     "output_type": "execute_result"
    }
   ],
   "source": [
    "from sklearn.naive_bayes import MultinomialNB\n",
    "clf = MultinomialNB()\n",
    "clf.fit(X[0:875], y[0:875])"
   ]
  },
  {
   "cell_type": "code",
   "execution_count": 17,
   "metadata": {
    "collapsed": true
   },
   "outputs": [],
   "source": [
    "result=[] \n",
    "result=clf.predict(X[0:6966])\n",
    "val=np.arange(0,13931,2)\n",
    "series=pd.Series(result,index=val)\n",
    "#print(series)"
   ]
  },
  {
   "cell_type": "code",
   "execution_count": 18,
   "metadata": {
    "collapsed": true
   },
   "outputs": [],
   "source": [
    "data[\"NaiveBayes\"]=series"
   ]
  },
  {
   "cell_type": "code",
   "execution_count": 19,
   "metadata": {},
   "outputs": [
    {
     "data": {
      "text/plain": [
       "0.85485714285714287"
      ]
     },
     "execution_count": 19,
     "metadata": {},
     "output_type": "execute_result"
    }
   ],
   "source": [
    "from sklearn.metrics import accuracy_score\n",
    "data.head()\n",
    "data.index\n",
    "accuracy_score(series[0:875],y[0:875])"
   ]
  },
  {
   "cell_type": "code",
   "execution_count": 20,
   "metadata": {},
   "outputs": [
    {
     "data": {
      "text/plain": [
       "0.54726368159203975"
      ]
     },
     "execution_count": 20,
     "metadata": {},
     "output_type": "execute_result"
    }
   ],
   "source": [
    "from sklearn.metrics import accuracy_score\n",
    "accuracy_score(series[876:1077],y[876:1077])\n",
    "#print(series[877:1077])"
   ]
  },
  {
   "cell_type": "code",
   "execution_count": 21,
   "metadata": {},
   "outputs": [
    {
     "name": "stdout",
     "output_type": "stream",
     "text": [
      "[LibSVM]"
     ]
    },
    {
     "data": {
      "text/plain": [
       "SVC(C=1.0, cache_size=200, class_weight=None, coef0=0.0,\n",
       "  decision_function_shape='ovr', degree=3, gamma='auto', kernel='linear',\n",
       "  max_iter=-1, probability=False, random_state=None, shrinking=True,\n",
       "  tol=0.001, verbose=3)"
      ]
     },
     "execution_count": 21,
     "metadata": {},
     "output_type": "execute_result"
    }
   ],
   "source": [
    "from sklearn import svm\n",
    "clf_svm = svm.SVC(kernel=\"linear\", verbose=3)\n",
    "clf_svm.fit(X[0:875], y[0:875])"
   ]
  },
  {
   "cell_type": "code",
   "execution_count": 22,
   "metadata": {
    "collapsed": true
   },
   "outputs": [],
   "source": [
    "res=[]\n",
    "res=clf_svm.predict(X[0:6966])\n",
    "lis=np.arange(0,13931,2)\n",
    "ser=pd.Series(res,index=lis)\n",
    "#print(ser)\n",
    "data['SVM']=ser"
   ]
  },
  {
   "cell_type": "code",
   "execution_count": 23,
   "metadata": {},
   "outputs": [
    {
     "data": {
      "text/plain": [
       "0.93028571428571427"
      ]
     },
     "execution_count": 23,
     "metadata": {},
     "output_type": "execute_result"
    }
   ],
   "source": [
    "accuracy_score(ser[0:875],y[0:875])"
   ]
  },
  {
   "cell_type": "code",
   "execution_count": 24,
   "metadata": {},
   "outputs": [
    {
     "data": {
      "text/plain": [
       "0.52736318407960203"
      ]
     },
     "execution_count": 24,
     "metadata": {},
     "output_type": "execute_result"
    }
   ],
   "source": [
    "accuracy_score(ser[876:1077],y[876:1077])"
   ]
  },
  {
   "cell_type": "code",
   "execution_count": 25,
   "metadata": {
    "collapsed": true
   },
   "outputs": [],
   "source": [
    "data.to_csv('Result.csv')"
   ]
  },
  {
   "cell_type": "code",
   "execution_count": 26,
   "metadata": {
    "collapsed": true
   },
   "outputs": [],
   "source": [
    "%matplotlib inline"
   ]
  },
  {
   "cell_type": "code",
   "execution_count": 27,
   "metadata": {
    "collapsed": true
   },
   "outputs": [],
   "source": [
    "import matplotlib.pyplot as plt"
   ]
  },
  {
   "cell_type": "code",
   "execution_count": 28,
   "metadata": {},
   "outputs": [
    {
     "name": "stdout",
     "output_type": "stream",
     "text": [
      "Counter({'positive': 463, 'neutral': 358, 'negative': 54})\n",
      "Counter({'positive': 542, 'neutral': 333})\n"
     ]
    },
    {
     "data": {
      "image/png": "[encoded data removed]",
      "text/plain": [
       "<matplotlib.figure.Figure at 0x23e7a6467f0>"
      ]
     },
     "metadata": {},
     "output_type": "display_data"
    }
   ],
   "source": [
    "from collections import Counter\n",
    "c=Counter(y[:875])\n",
    "s=Counter(series[:875])\n",
    "print(c)\n",
    "print(s)\n",
    "n_groups=3\n",
    "yemo=(463,358,54)\n",
    "NBemo=(564,329,0)\n",
    "fig, ax = plt.subplots()\n",
    "index = np.arange(n_groups)\n",
    "bar_width = 0.20\n",
    "opacity = 0.8\n",
    "rects1 = plt.bar(index, yemo, bar_width,\n",
    "                 alpha=opacity,\n",
    "                 color='b',\n",
    "                 label='Actual emotion of Train Data')\n",
    "rects2 = plt.bar(index + bar_width, NBemo, bar_width,\n",
    "                 alpha=opacity,\n",
    "                 color='g',\n",
    "                 label='Naive Bayes prediction Train Data')\n",
    "plt.xlabel('Emotion')\n",
    "plt.ylabel('Count')\n",
    "plt.xticks(index + bar_width, ('Positive', 'Neutral', 'Negative'))\n",
    "plt.legend()\n",
    "plt.title('Accuracy of Naive Bayes Model- Train Data')\n",
    "plt.tight_layout()\n",
    "plt.show()"
   ]
  },
  {
   "cell_type": "code",
   "execution_count": 29,
   "metadata": {},
   "outputs": [
    {
     "name": "stdout",
     "output_type": "stream",
     "text": [
      "Counter({'positive': 150, 'negative': 27, 'neutral': 24})\n",
      "Counter({'positive': 151, 'neutral': 50})\n"
     ]
    },
    {
     "data": {
      "image/png": "[encoded data removed]",
      "text/plain": [
       "<matplotlib.figure.Figure at 0x23e7a769668>"
      ]
     },
     "metadata": {},
     "output_type": "display_data"
    }
   ],
   "source": [
    "from collections import Counter\n",
    "ct=Counter(y[877:1078])\n",
    "st=Counter(series[876:1077])\n",
    "print(ct)\n",
    "print(st)\n",
    "n_groups=3\n",
    "ytestemo=(150,24,27)\n",
    "NBtestemo=(151,50,0)\n",
    "fig, ax = plt.subplots()\n",
    "index = np.arange(n_groups)\n",
    "bar_width = 0.20\n",
    "opacity = 0.8\n",
    "rects1 = plt.bar(index, ytestemo, bar_width,\n",
    "                 alpha=opacity,\n",
    "                 color='b',\n",
    "                 label='Actual emotion of Test Data')\n",
    "rects2 = plt.bar(index + bar_width, NBtestemo,bar_width,\n",
    "                 alpha=opacity,\n",
    "                 color='g',\n",
    "                 label='Naive Bayes prediction of Test Data')\n",
    "plt.xlabel('Emotion')\n",
    "plt.ylabel('Count')\n",
    "plt.xticks(index + bar_width, ('Positive', 'Neutral', 'Negative'))\n",
    "plt.legend()\n",
    "plt.title('Accuracy of Naive Bayes Model- Test Data')\n",
    "plt.tight_layout()\n",
    "plt.show()"
   ]
  },
  {
   "cell_type": "code",
   "execution_count": 30,
   "metadata": {},
   "outputs": [
    {
     "name": "stdout",
     "output_type": "stream",
     "text": [
      "Counter({'positive': 463, 'neutral': 358, 'negative': 54})\n",
      "Counter({'positive': 462, 'neutral': 377, 'negative': 36})\n"
     ]
    },
    {
     "data": {
      "image/png": "[encoded data removed]",
      "text/plain": [
       "<matplotlib.figure.Figure at 0x23e7aa0b860>"
      ]
     },
     "metadata": {},
     "output_type": "display_data"
    }
   ],
   "source": [
    "from collections import Counter\n",
    "cs=Counter(y[:875])\n",
    "ss=Counter(ser[:875])\n",
    "print(cs)\n",
    "print(ss)\n",
    "n_groups=3\n",
    "yemo=(463,358,54)\n",
    "SVMemo=(462,377,36)\n",
    "fig, ax = plt.subplots()\n",
    "index = np.arange(n_groups)\n",
    "bar_width = 0.20\n",
    "opacity = 0.8\n",
    "rects1 = plt.bar(index, yemo, bar_width,\n",
    "                 alpha=opacity,\n",
    "                 color='b',\n",
    "                 label='Actual emotion of Train Data')\n",
    "rects2 = plt.bar(index + bar_width, SVMemo,bar_width,\n",
    "                 alpha=opacity,\n",
    "                 color='g',\n",
    "                 label='SVM prediction of Train data')\n",
    "plt.xlabel('Emotion')\n",
    "plt.ylabel('Count')\n",
    "plt.xticks(index + bar_width, ('Positive', 'Neutral', 'Negative'))\n",
    "plt.legend()\n",
    "plt.title('Accuracy of SVM Model- Train Data')\n",
    "plt.tight_layout()\n",
    "plt.show()"
   ]
  },
  {
   "cell_type": "code",
   "execution_count": 31,
   "metadata": {},
   "outputs": [
    {
     "name": "stdout",
     "output_type": "stream",
     "text": [
      "Counter({'positive': 150, 'negative': 28, 'neutral': 24})\n",
      "Counter({'positive': 141, 'neutral': 60})\n"
     ]
    },
    {
     "data": {
      "image/png": "[encoded data removed]",
      "text/plain": [
       "<matplotlib.figure.Figure at 0x23e7ae25208>"
      ]
     },
     "metadata": {},
     "output_type": "display_data"
    }
   ],
   "source": [
    "from collections import Counter\n",
    "ct=Counter(y[876:1078])\n",
    "st=Counter(ser[876:1077])\n",
    "print(ct)\n",
    "print(st)\n",
    "n_groups=3\n",
    "ytestemo=(150,28,24)\n",
    "SVMtestemo=(141,60,0)\n",
    "fig, ax = plt.subplots()\n",
    "index = np.arange(n_groups)\n",
    "bar_width = 0.20\n",
    "opacity = 0.8\n",
    "rects1 = plt.bar(index, ytestemo, bar_width,\n",
    "                 alpha=opacity,\n",
    "                 color='b',\n",
    "                 label='Actual emotion of Test Data')\n",
    "rects2 = plt.bar(index + bar_width, SVMtestemo,bar_width,\n",
    "                 alpha=opacity,\n",
    "                 color='g',\n",
    "                 label='SVM prediction of Test Data')\n",
    "plt.xlabel('Emotion')\n",
    "plt.ylabel('Count')\n",
    "plt.xticks(index + bar_width, ('Positive', 'Neutral', 'Negative'))\n",
    "plt.legend()\n",
    "plt.title('Accuracy of SVM Model- Test Data')\n",
    "plt.tight_layout()\n",
    "plt.show()"
   ]
  },
  {
   "cell_type": "code",
   "execution_count": 32,
   "metadata": {
    "collapsed": true
   },
   "outputs": [],
   "source": [
    "val=(data.loc[data['emotion'] == 'negative'])"
   ]
  },
  {
   "cell_type": "code",
   "execution_count": 33,
   "metadata": {
    "collapsed": true
   },
   "outputs": [],
   "source": [
    "v=(data.loc[data['SVM'] == 'negative'])"
   ]
  },
  {
   "cell_type": "code",
   "execution_count": 34,
   "metadata": {
    "collapsed": true
   },
   "outputs": [],
   "source": [
    "from nltk.corpus import stopwords\n",
    "from nltk.tokenize import word_tokenize\n",
    "stop_words = set(stopwords.words('english'))\n",
    "wordfreq={}\n",
    "for tweet in val[\"text\"]:\n",
    "    word_tokens = word_tokenize(tweet)\n",
    "    filtered_sentence = [w for w in word_tokens if not w in stop_words]\n",
    "    filtered_sentence = []\n",
    "    for w in word_tokens:\n",
    "        if w not in stop_words:\n",
    "            if(w not in wordfreq):\n",
    "                wordfreq[w]=0\n",
    "            wordfreq[w]+=1\n",
    "#print(wordfreq)"
   ]
  },
  {
   "cell_type": "code",
   "execution_count": 35,
   "metadata": {},
   "outputs": [
    {
     "data": {
      "text/plain": [
       "[('Incredibly', 1),\n",
       " ('Bad', 1),\n",
       " ('Idea', 1),\n",
       " ('Tesla', 1),\n",
       " ('completely', 1),\n",
       " ('missed', 1),\n",
       " ('goal', 1),\n",
       " ('production', 1),\n",
       " ('September', 1),\n",
       " ('fety', 1),\n",
       " ('htt', 1),\n",
       " ('Data', 1),\n",
       " ('collection', 1),\n",
       " ('security', 1),\n",
       " ('flaws', 1),\n",
       " ('carmakers', 1),\n",
       " ('autonomousdriving', 1),\n",
       " ('Coverage', 1),\n",
       " ('SelfDrivingCarsho', 1),\n",
       " ('responsible', 1),\n",
       " ('crashes', 1),\n",
       " ('Insurance', 1),\n",
       " ('companies', 1),\n",
       " ('sure', 1),\n",
       " ('yet', 1),\n",
       " ('HarleyDavidson', 1),\n",
       " ('Is', 1),\n",
       " ('In', 1),\n",
       " ('Trouble', 1),\n",
       " ('understand', 1),\n",
       " ('accidents', 1),\n",
       " ('State', 1),\n",
       " ('Of', 1),\n",
       " ('York', 1),\n",
       " ('Didnt', 1),\n",
       " ('Consult', 1),\n",
       " ('With', 1),\n",
       " ('shared', 1),\n",
       " ('robotaxis', 1),\n",
       " ('disrupt', 1),\n",
       " ('sharedmobility', 1),\n",
       " ('market', 1),\n",
       " ('robotics', 1),\n",
       " ('report', 1),\n",
       " ('says', 1),\n",
       " ('long', 1),\n",
       " ('roll', 1),\n",
       " ('lead', 1),\n",
       " ('thousands', 1),\n",
       " ('preventable', 1),\n",
       " ('highway', 1),\n",
       " ('deaths', 1),\n",
       " ('TO', 1),\n",
       " ('SAVE', 1),\n",
       " ('THE', 1),\n",
       " ('MOST', 1),\n",
       " ('LIVES', 1),\n",
       " ('DEPLOY', 1),\n",
       " ('IMPERFECT', 1),\n",
       " ('SELFDRIVING', 1),\n",
       " ('CARS', 1),\n",
       " ('Limited', 1),\n",
       " ('breakthrough', 1),\n",
       " ('vehicles', 1),\n",
       " ('AutonomousCar', 1),\n",
       " ('DriverlessCars', 1),\n",
       " ('VX', 1),\n",
       " ('People', 1),\n",
       " ('use', 1),\n",
       " ('future', 1),\n",
       " ('way', 1),\n",
       " ('gearless\\\\tomatic', 1),\n",
       " ('Autonomousdriving', 1),\n",
       " ('Mobility', 1),\n",
       " ('see', 1),\n",
       " ('Uber', 1),\n",
       " ('driver', 1),\n",
       " ('pull', 1),\n",
       " ('nope', 1),\n",
       " ('im', 1),\n",
       " ('walking', 1),\n",
       " ('Wired', 1),\n",
       " ('Deploy', 1),\n",
       " ('accidentally', 1),\n",
       " ('reports', 1),\n",
       " ('real', 1),\n",
       " ('reason', 1),\n",
       " ('wont', 1),\n",
       " ('work', 1),\n",
       " ('NYC', 1),\n",
       " ('zEng', 1),\n",
       " ('months', 1),\n",
       " ('since', 1),\n",
       " ('reserved', 1),\n",
       " ('At', 1),\n",
       " ('least', 1),\n",
       " ('year', 1),\n",
       " ('AWD', 1),\n",
       " ('version', 1),\n",
       " ('delivery', 1),\n",
       " ('probably', 1),\n",
       " ('We', 1),\n",
       " ('roadmap', 1),\n",
       " ('puts', 1),\n",
       " ('citydesign', 1),\n",
       " ('ESP', 1),\n",
       " ('safe', 1),\n",
       " ('enough', 1),\n",
       " ('k', 1),\n",
       " ('cook', 1),\n",
       " ('AutonomousVehicles', 1),\n",
       " ('NBC', 1),\n",
       " ('News', 1),\n",
       " ('Millions', 1),\n",
       " ('Professional', 1),\n",
       " ('Drivers', 1),\n",
       " ('Be', 1),\n",
       " ('Replaced', 1),\n",
       " ('Vehicles', 1),\n",
       " ('negotiate', 1),\n",
       " ('moral', 1),\n",
       " ('maze', 1),\n",
       " ('line', 1),\n",
       " ('Q', 1),\n",
       " ('investing', 1),\n",
       " ('wrong', 1),\n",
       " ('conversation', 1),\n",
       " ('USA', 1),\n",
       " ('deal', 1),\n",
       " ('becoming', 1),\n",
       " ('POLITICOGenNext', 1),\n",
       " ('happen', 1),\n",
       " ('someone', 1),\n",
       " ('hacks', 1),\n",
       " ('Dont', 1),\n",
       " ('wantgive', 1),\n",
       " ('control', 1),\n",
       " ('killer', 1),\n",
       " ('couches', 1),\n",
       " ('wheels', 1),\n",
       " ('computer', 1),\n",
       " ('programers', 1),\n",
       " ('n', 1),\n",
       " ('share', 1),\n",
       " ('w', 1),\n",
       " ('Imagine', 1),\n",
       " ('terror', 1),\n",
       " ('wed', 1),\n",
       " ('unleash', 1),\n",
       " ('let', 1),\n",
       " ('electronics', 1),\n",
       " ('govern', 1),\n",
       " ('water', 1),\n",
       " ('heaters', 1),\n",
       " ('furnaces', 1),\n",
       " ('Oh', 1),\n",
       " ('wait', 1),\n",
       " ('Sunday', 1),\n",
       " ('run', 1),\n",
       " ('One', 1),\n",
       " ('looking', 1),\n",
       " ('aleart', 1),\n",
       " ('nothing', 1),\n",
       " ('happened', 1),\n",
       " ('langEnglish', 1),\n",
       " ('&', 1),\n",
       " ('got', 1),\n",
       " ('software', 1),\n",
       " ('inside', 1),\n",
       " ('technology', 1),\n",
       " ('list', 1),\n",
       " ('left', 1),\n",
       " ('travelled', 1),\n",
       " ('wall', 1),\n",
       " ('entered', 1),\n",
       " ('toilets', 1),\n",
       " ('pub', 1),\n",
       " ('Does', 1),\n",
       " ('matter', 1),\n",
       " ('want', 1),\n",
       " ('point', 1),\n",
       " ('B', 1),\n",
       " ('reliably', 1),\n",
       " ('low', 1),\n",
       " ('cost', 1),\n",
       " ('Its', 1),\n",
       " ('gon', 1),\n",
       " ('tough', 1),\n",
       " ('catch', 1),\n",
       " ('Approximately', 1),\n",
       " ('US', 1),\n",
       " ('bus', 1),\n",
       " ('truck', 1),\n",
       " ('drive', 1),\n",
       " ('Blinding', 1),\n",
       " ('bump', 1),\n",
       " ('selfflyingdrones', 1),\n",
       " ('solve', 1),\n",
       " ('big', 1),\n",
       " ('everyday', 1),\n",
       " ('commute', 1),\n",
       " ('arch', 1),\n",
       " ('Police', 1),\n",
       " ('override', 1),\n",
       " ('controls', 1),\n",
       " ('considered', 1),\n",
       " ('Never', 1),\n",
       " ('Own', 1),\n",
       " ('Autonomous', 1),\n",
       " ('Vehicle', 1),\n",
       " ('Neither', 1),\n",
       " ('VfcMJlauEtwitter', 1),\n",
       " ('autonomousvehicles', 1),\n",
       " ('fund', 1),\n",
       " ('effort', 1),\n",
       " ('develop', 1),\n",
       " ('intelligent', 1),\n",
       " ('rather', 1),\n",
       " ('Easily', 1),\n",
       " ('Dupes', 1),\n",
       " ('Driverless', 1),\n",
       " ('TechNewsWorld', 1),\n",
       " ('lidarsystem', 1),\n",
       " ('lasers', 1),\n",
       " ('Make', 1),\n",
       " ('Hallucinate', 1),\n",
       " ('Objects', 1),\n",
       " ('That', 1),\n",
       " ('Aren', 1),\n",
       " ('There', 1),\n",
       " ('Epoch', 1),\n",
       " ('Times', 1),\n",
       " ('Security', 1),\n",
       " ('Researcher', 1),\n",
       " ('Shows', 1),\n",
       " ('Cheap', 1),\n",
       " ('Simple', 1),\n",
       " ('Way', 1),\n",
       " ('Car', 1),\n",
       " ('stopped', 1),\n",
       " ('using', 1),\n",
       " ('lowpower', 1),\n",
       " ('Heres', 1),\n",
       " ('possible', 1),\n",
       " ('Another', 1),\n",
       " ('obstacle', 1),\n",
       " ('googlecar', 1),\n",
       " ('cartech', 1),\n",
       " ('Disrupt', 1),\n",
       " ('Industries', 1),\n",
       " ('innovation', 1),\n",
       " ('SelfDrivingCarsTMM', 1),\n",
       " ('MarketMogul', 1),\n",
       " ('ridesharing', 1),\n",
       " ('mean', 1),\n",
       " ('fewer', 1),\n",
       " ('parking', 1),\n",
       " ('garages', 1),\n",
       " ('eja', 1),\n",
       " ('Toyota', 1),\n",
       " ('uneasy', 1),\n",
       " ('handoff', 1),\n",
       " ('systems', 1),\n",
       " ('AI', 1),\n",
       " ('ht', 1),\n",
       " ('Meet', 1),\n",
       " ('Artist', 1),\n",
       " ('Using', 1),\n",
       " ('Ritual', 1),\n",
       " ('Magic', 1),\n",
       " ('Trap', 1),\n",
       " ('rich', 1),\n",
       " ('smart', 1),\n",
       " ('cities', 1),\n",
       " ('going', 1),\n",
       " ('around', 1),\n",
       " ('town', 1),\n",
       " ('sleeping', 1),\n",
       " ('self', 1),\n",
       " ('driving', 1),\n",
       " ('otWar', 1),\n",
       " ('Cant', 1),\n",
       " ('leave', 1),\n",
       " ('final', 1),\n",
       " ('decision', 1),\n",
       " ('life', 1),\n",
       " ('death', 1),\n",
       " ('programmers', 1),\n",
       " ('unaware', 1),\n",
       " ('facts', 1),\n",
       " ('ground', 1),\n",
       " ('Ban', 1),\n",
       " ('Citys', 1),\n",
       " ('accident', 1),\n",
       " ('within', 1),\n",
       " ('hours', 1),\n",
       " ('launch', 1),\n",
       " ('insurance', 1),\n",
       " ('insurancenews', 1),\n",
       " ('perfect', 1),\n",
       " ('human', 1),\n",
       " ('arent', 1),\n",
       " ('Waiting', 1),\n",
       " ('cos', 1),\n",
       " ('Would', 1),\n",
       " ('go', 1),\n",
       " ('ride', 1),\n",
       " ('taxiSelfDrivingCars', 1),\n",
       " ('Taxis', 1),\n",
       " ('Waymo', 1),\n",
       " ('Why', 2),\n",
       " ('Model', 2),\n",
       " ('Some', 2),\n",
       " ('worried', 2),\n",
       " ('proactive', 2),\n",
       " ('issue', 2),\n",
       " ('Scoop', 2),\n",
       " ('challenge', 2),\n",
       " ('autonomouscars', 2),\n",
       " ('flyingcar', 2),\n",
       " ('To', 2),\n",
       " ('New', 2),\n",
       " ('today', 2),\n",
       " ('automotive', 2),\n",
       " ('Wan', 2),\n",
       " ('Lots', 2),\n",
       " ('Put', 2),\n",
       " ('Road', 2),\n",
       " ('waiting', 2),\n",
       " ('ConnectedCars', 2),\n",
       " ('ler', 2),\n",
       " ('ridiculed', 2),\n",
       " ('If', 2),\n",
       " ('Most', 2),\n",
       " ('autonomouscar', 2),\n",
       " ('away', 2),\n",
       " ('humans', 2),\n",
       " ('first', 2),\n",
       " ('Can', 2),\n",
       " ('How', 2),\n",
       " ('jobs', 2),\n",
       " ('automated', 2),\n",
       " ('What', 2),\n",
       " ('hackers', 2),\n",
       " ('Google', 2),\n",
       " ('vulnerable', 2),\n",
       " ('hack', 2),\n",
       " ('time', 2),\n",
       " ('get', 2),\n",
       " ('A', 2),\n",
       " ('taxi', 2),\n",
       " ('people', 2),\n",
       " ('pointers', 2),\n",
       " ('You', 2),\n",
       " ('Laser', 2),\n",
       " ('Pointer', 2),\n",
       " ('Hack', 2),\n",
       " ('|', 2),\n",
       " ('pointer', 2),\n",
       " ('Hackers', 2),\n",
       " ('trick', 2),\n",
       " ('taking', 2),\n",
       " ('evasive', 2),\n",
       " ('action', 2),\n",
       " ('Do', 2),\n",
       " ('cybersecurity', 3),\n",
       " ('autonomous', 3),\n",
       " ('na', 3),\n",
       " ('Save', 3),\n",
       " ('Lives', 3),\n",
       " ('Imperfect', 3),\n",
       " ('p', 3),\n",
       " ('Watch', 3),\n",
       " ('disruption', 3),\n",
       " ('industry', 3),\n",
       " ('AutonomousDriving', 3),\n",
       " ('tech', 3),\n",
       " ('need', 3),\n",
       " ('driverless', 3),\n",
       " ('I', 3),\n",
       " ('ASAP', 4),\n",
       " ('Rules', 4),\n",
       " ('stuck', 4),\n",
       " ('park', 4),\n",
       " ('brand', 4),\n",
       " ('new', 4),\n",
       " ('drivers', 4),\n",
       " ('Cars', 4),\n",
       " ('road', 4),\n",
       " ('SelfDriving', 5),\n",
       " ('laser', 5),\n",
       " ('via', 6),\n",
       " ('Will', 7),\n",
       " ('car', 7),\n",
       " ('selfdriving', 8),\n",
       " ('cars', 10),\n",
       " ('aut', 16),\n",
       " ('willingness', 18),\n",
       " ('UK', 18),\n",
       " ('consumers', 18),\n",
       " ('pay', 18),\n",
       " ('vehicle', 18),\n",
       " ('automation', 18),\n",
       " ('declining', 18),\n",
       " ('b', 18),\n",
       " ('The', 20),\n",
       " ('RT', 22),\n",
       " ('selfdrivingcars', 24),\n",
       " ('SelfDrivingCars', 45)]"
      ]
     },
     "execution_count": 35,
     "metadata": {},
     "output_type": "execute_result"
    }
   ],
   "source": [
    "from operator import itemgetter\n",
    "sorted(wordfreq.items(), key=itemgetter(1))"
   ]
  },
  {
   "cell_type": "code",
   "execution_count": null,
   "metadata": {
    "collapsed": true
   },
   "outputs": [],
   "source": []
  }
 ],
 "metadata": {
  "kernelspec": {
   "display_name": "Python 3",
   "language": "python",
   "name": "python3"
  },
  "language_info": {
   "codemirror_mode": {
    "name": "ipython",
    "version": 3
   },
   "file_extension": ".py",
   "mimetype": "text/x-python",
   "name": "python",
   "nbconvert_exporter": "python",
   "pygments_lexer": "ipython3",
   "version": "3.6.3"
  }
 },
 "nbformat": 4,
 "nbformat_minor": 2
}
